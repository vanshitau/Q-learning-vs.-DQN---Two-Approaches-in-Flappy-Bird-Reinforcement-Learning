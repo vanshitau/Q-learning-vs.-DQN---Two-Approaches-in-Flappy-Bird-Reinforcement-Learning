{
 "cells": [
  {
   "cell_type": "code",
   "execution_count": 96,
   "metadata": {},
   "outputs": [
    {
     "name": "stderr",
     "output_type": "stream",
     "text": [
      "'pip' is not recognized as an internal or external command,\n",
      "operable program or batch file.\n",
      "'pip' is not recognized as an internal or external command,\n",
      "operable program or batch file.\n"
     ]
    }
   ],
   "source": [
    "# The python version I'm using is 3.9.16\n",
    "! pip install flappy-bird-gymnasium\n",
    "! pip install tensorflow"
   ]
  },
  {
   "cell_type": "code",
   "execution_count": 97,
   "metadata": {},
   "outputs": [
    {
     "name": "stderr",
     "output_type": "stream",
     "text": [
      "'flappy_bird_gymnasium' is not recognized as an internal or external command,\n",
      "operable program or batch file.\n"
     ]
    }
   ],
   "source": [
    "# Run if you wanna play the game, the game is kinda cringe ngl\n",
    "! flappy_bird_gymnasium"
   ]
  },
  {
   "cell_type": "code",
   "execution_count": 98,
   "metadata": {},
   "outputs": [],
   "source": [
    "from __future__ import annotations\n",
    "\n",
    "from collections import defaultdict\n",
    "\n",
    "import matplotlib.pyplot as plt\n",
    "import numpy as np\n",
    "#import seaborn as sns\n",
    "from matplotlib.patches import Patch\n",
    "from tqdm import tqdm"
   ]
  },
  {
   "cell_type": "code",
   "execution_count": 99,
   "metadata": {},
   "outputs": [],
   "source": [
    "import flappy_bird_gymnasium\n",
    "import gymnasium\n",
    "# env = gymnasium.make(\"FlappyBird-v0\", render_mode=\"human\", use_lidar=False)\n",
    "env = gymnasium.make(\"FlappyBird-v0\", use_lidar=False)\n"
   ]
  },
  {
   "cell_type": "code",
   "execution_count": 100,
   "metadata": {},
   "outputs": [],
   "source": [
    "class FlappyBirdAgent:\n",
    "    def __init__(\n",
    "        self,\n",
    "        learning_rate,\n",
    "        epsilon,\n",
    "        discount_factor,\n",
    "    ):\n",
    "        \"\"\"Initialize a Reinforcement Learning agent with specified learning rate, epsilon, and discount factor.\n",
    "        \"\"\"\n",
    "        self.action_values = defaultdict(lambda: np.zeros(env.action_space.n))\n",
    "        # Feel free to add more class variables needed for your specific policy\n",
    "\n",
    "        self.lr = learning_rate\n",
    "        self.discount_factor = discount_factor\n",
    "        self.epsilon = epsilon\n",
    "\n",
    "        self.training_error = []\n",
    "\n",
    "    def get_action(self, obs) -> int:\n",
    "        \"\"\"\n",
    "        Implementing epsilon-greedy policy.\n",
    "        Returns the best action with probability (1 - epsilon)\n",
    "        otherwise a random action with probability epsilon to ensure exploration.\n",
    "        \"\"\"\n",
    "        # with probability epsilon return a random action to explore the environment\n",
    "        if np.random.random() < self.epsilon:\n",
    "            return env.action_space.sample()\n",
    "\n",
    "        # with probability (1 - epsilon) act greedily (exploit)\n",
    "        else:\n",
    "            return int(np.argmax(self.action_values[obs]))\n",
    "\n",
    "    def update_action_values_ql(\n",
    "        self,\n",
    "        obs,\n",
    "        action,\n",
    "        reward,\n",
    "        terminated,\n",
    "        next_obs,\n",
    "    ):\n",
    "        \"\"\"Updates the Q-value of an action.\"\"\"\n",
    "        future_q_value = (not terminated) * np.max(self.action_values[next_obs])\n",
    "        temporal_difference = (\n",
    "            reward + self.discount_factor * future_q_value - self.action_values[obs][action]\n",
    "        )\n",
    "\n",
    "        self.action_values[obs][action] = (\n",
    "            self.action_values[obs][action] + self.lr * temporal_difference\n",
    "        )\n",
    "        self.training_error.append(temporal_difference)\n",
    "\n",
    "    # implement the update function for other RL algorithms\n",
    "    def update_action_values_xyz(\n",
    "        self,\n",
    "        obs,\n",
    "        action,\n",
    "        reward,\n",
    "        terminated,\n",
    "        next_obs, # I think next_obs is only required for SARSA, but I could be wrong so keeping it here to be safe\n",
    "    ):\n",
    "        return"
   ]
  },
  {
   "cell_type": "code",
   "execution_count": 101,
   "metadata": {},
   "outputs": [],
   "source": [
    "# hyperparameters\n",
    "learning_rate = 0.01\n",
    "n_episodes = 20\n",
    "epsilon = 0.3\n",
    "disount_factor = 0.95\n",
    "\n",
    "agent = FlappyBirdAgent(\n",
    "    learning_rate=learning_rate,\n",
    "    epsilon=epsilon,\n",
    "    discount_factor=disount_factor\n",
    ")"
   ]
  },
  {
   "cell_type": "code",
   "execution_count": 102,
   "metadata": {},
   "outputs": [
    {
     "name": "stderr",
     "output_type": "stream",
     "text": [
      "100%|██████████| 20/20 [00:00<00:00, 383.44it/s]\n"
     ]
    }
   ],
   "source": [
    "for episode in tqdm(range(n_episodes)):\n",
    "    obs, info = env.reset()\n",
    "    done = False\n",
    "\n",
    "    # play one episode\n",
    "    while not done:\n",
    "        action = agent.get_action(tuple(obs))\n",
    "        next_obs, reward, terminated, truncated, info = env.step(action)\n",
    "\n",
    "        # change this line to call the update function for a different algorithm\n",
    "        agent.update_action_values_ql(tuple(obs), action, reward, terminated, tuple(next_obs))\n",
    "\n",
    "        # update if the environment is done and the current obs\n",
    "        done = terminated or truncated\n",
    "        obs = next_obs"
   ]
  },
  {
   "cell_type": "code",
   "execution_count": 103,
   "metadata": {},
   "outputs": [],
   "source": [
    "env2 = gymnasium.make(\"FlappyBird-v0\", render_mode=\"human\", use_lidar=False)\n"
   ]
  },
  {
   "cell_type": "code",
   "execution_count": 104,
   "metadata": {},
   "outputs": [
    {
     "name": "stderr",
     "output_type": "stream",
     "text": [
      "100%|██████████| 20/20 [00:47<00:00,  2.39s/it]\n"
     ]
    }
   ],
   "source": [
    "for episode in tqdm(range(n_episodes)):\n",
    "    obs, info = env2.reset()\n",
    "    done = False\n",
    "\n",
    "    # play one episode\n",
    "    while not done:\n",
    "        action = agent.get_action(tuple(obs))\n",
    "        next_obs, reward, terminated, truncated, info = env2.step(action)\n",
    "\n",
    "    \n",
    "        done = terminated or truncated\n",
    "        obs = next_obs"
   ]
  },
  {
   "cell_type": "code",
   "execution_count": 105,
   "metadata": {},
   "outputs": [
    {
     "data": {
      "image/png": "[encoded data removed]",
      "text/plain": [
       "<Figure size 1200x500 with 1 Axes>"
      ]
     },
     "metadata": {},
     "output_type": "display_data"
    }
   ],
   "source": [
    "# Visualizing the Training\n",
    "# Visualize the error \n",
    "\n",
    "# rolling length - the number of consecutive data points \n",
    "# each point in the graph represents the average of the current and previous 499 points\n",
    "rolling_length = 500\n",
    "# initialize the graph\n",
    "figure, axis = plt.subplots(figsize=(12,5))\n",
    "\n",
    "plt.title(\"Training Error\")\n",
    "# calculate the moving average\n",
    "mov_avg_TE= (np.convolve(np.array(agent.training_error), np.ones(rolling_length), mode=\"valid\") / rolling_length)\n",
    "plt.plot(range(len(mov_avg_TE)), mov_avg_TE)\n",
    "\n",
    "#  label the axis\n",
    "plt.xlabel(\"Step\")\n",
    "plt.ylabel(\"Error\")\n",
    "\n",
    "plt.tight_layout()\n",
    "plt.show()"
   ]
  },
  {
   "cell_type": "code",
   "execution_count": null,
   "metadata": {},
   "outputs": [],
   "source": []
  }
 ],
 "metadata": {
  "kernelspec": {
   "display_name": "Python 3",
   "language": "python",
   "name": "python3"
  },
  "language_info": {
   "codemirror_mode": {
    "name": "ipython",
    "version": 3
   },
   "file_extension": ".py",
   "mimetype": "text/x-python",
   "name": "python",
   "nbconvert_exporter": "python",
   "pygments_lexer": "ipython3",
   "version": "3.11.2"
  }
 },
 "nbformat": 4,
 "nbformat_minor": 2
}
